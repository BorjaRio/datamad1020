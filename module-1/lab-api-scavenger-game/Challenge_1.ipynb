{
 "cells": [
  {
   "cell_type": "code",
   "execution_count": 30,
   "metadata": {},
   "outputs": [],
   "source": [
    "import requests\n",
    "import os\n",
    "data = requests.get(\"https://github.com/ironhack-datalabs/datamad1020\")\n",
    "\n",
    "\n",
    "from  dotenv import load_dotenv\n",
    "token = os.environ.get ( \"api-token\" )"
   ]
  },
  {
   "cell_type": "code",
   "execution_count": 31,
   "metadata": {},
   "outputs": [
    {
     "data": {
      "text/plain": [
       "True"
      ]
     },
     "execution_count": 31,
     "metadata": {},
     "output_type": "execute_result"
    }
   ],
   "source": [
    "load_dotenv()"
   ]
  },
  {
   "cell_type": "code",
   "execution_count": 32,
   "metadata": {},
   "outputs": [],
   "source": [
    "\n",
    "gh_token = os.getenv(\"api-token\")"
   ]
  },
  {
   "cell_type": "code",
   "execution_count": 33,
   "metadata": {},
   "outputs": [],
   "source": [
    "url = \"https://api.github.com\"\n",
    "headers = {\n",
    "    \"Authorization\": f\"token {gh_token}\"\n",
    "}"
   ]
  },
  {
   "cell_type": "code",
   "execution_count": 34,
   "metadata": {},
   "outputs": [],
   "source": [
    "\n",
    "endpoint = \"/repos/{owner}/{repo}/forks\"\n",
    "repo_info = {\n",
    "    \"owner\":\"ironhack-datalabs\",\n",
    "    \"repo\":\"datamad1020\"\n",
    "}\n",
    "parameters = {\n",
    "    \"state\":\"all\"\n",
    "}"
   ]
  },
  {
   "cell_type": "code",
   "execution_count": 35,
   "metadata": {},
   "outputs": [],
   "source": [
    "data = requests.get(url+endpoint.format(**repo_info), \n",
    "                    headers=headers,\n",
    "                    params=parameters)"
   ]
  },
  {
   "cell_type": "code",
   "execution_count": 36,
   "metadata": {},
   "outputs": [],
   "source": [
    "data = data.json()"
   ]
  },
  {
   "cell_type": "code",
   "execution_count": 52,
   "metadata": {},
   "outputs": [
    {
     "data": {
      "text/plain": [
       "dict_keys(['id', 'node_id', 'name', 'full_name', 'private', 'owner', 'html_url', 'description', 'fork', 'url', 'forks_url', 'keys_url', 'collaborators_url', 'teams_url', 'hooks_url', 'issue_events_url', 'events_url', 'assignees_url', 'branches_url', 'tags_url', 'blobs_url', 'git_tags_url', 'git_refs_url', 'trees_url', 'statuses_url', 'languages_url', 'stargazers_url', 'contributors_url', 'subscribers_url', 'subscription_url', 'commits_url', 'git_commits_url', 'comments_url', 'issue_comment_url', 'contents_url', 'compare_url', 'merges_url', 'archive_url', 'downloads_url', 'issues_url', 'pulls_url', 'milestones_url', 'notifications_url', 'labels_url', 'releases_url', 'deployments_url', 'created_at', 'updated_at', 'pushed_at', 'git_url', 'ssh_url', 'clone_url', 'svn_url', 'homepage', 'size', 'stargazers_count', 'watchers_count', 'language', 'has_issues', 'has_projects', 'has_downloads', 'has_wiki', 'has_pages', 'forks_count', 'mirror_url', 'archived', 'disabled', 'open_issues_count', 'license', 'forks', 'open_issues', 'watchers', 'default_branch', 'permissions'])"
      ]
     },
     "execution_count": 52,
     "metadata": {},
     "output_type": "execute_result"
    }
   ],
   "source": [
    "data[0].keys()"
   ]
  },
  {
   "cell_type": "code",
   "execution_count": 79,
   "metadata": {},
   "outputs": [
    {
     "data": {
      "text/plain": [
       "'https://api.github.com/repos/antonioomsg/datamad1020/languages'"
      ]
     },
     "execution_count": 79,
     "metadata": {},
     "output_type": "execute_result"
    }
   ],
   "source": [
    "data[1][\"language\"]"
   ]
  },
  {
   "cell_type": "code",
   "execution_count": 54,
   "metadata": {},
   "outputs": [
    {
     "data": {
      "text/plain": [
       "21"
      ]
     },
     "execution_count": 54,
     "metadata": {},
     "output_type": "execute_result"
    }
   ],
   "source": [
    "len(data)"
   ]
  },
  {
   "cell_type": "code",
   "execution_count": 81,
   "metadata": {},
   "outputs": [],
   "source": [
    "language = [pr[\"language\"]for pr in data]"
   ]
  },
  {
   "cell_type": "code",
   "execution_count": 82,
   "metadata": {},
   "outputs": [
    {
     "data": {
      "text/plain": [
       "[None,\n",
       " 'Jupyter Notebook',\n",
       " 'Jupyter Notebook',\n",
       " None,\n",
       " 'Jupyter Notebook',\n",
       " 'Jupyter Notebook',\n",
       " 'Jupyter Notebook',\n",
       " 'Jupyter Notebook',\n",
       " 'Jupyter Notebook',\n",
       " 'Jupyter Notebook',\n",
       " 'Jupyter Notebook',\n",
       " 'Jupyter Notebook',\n",
       " 'Jupyter Notebook',\n",
       " 'Jupyter Notebook',\n",
       " 'Jupyter Notebook',\n",
       " 'Jupyter Notebook',\n",
       " 'Jupyter Notebook',\n",
       " None,\n",
       " 'Jupyter Notebook',\n",
       " 'Jupyter Notebook',\n",
       " None]"
      ]
     },
     "execution_count": 82,
     "metadata": {},
     "output_type": "execute_result"
    }
   ],
   "source": [
    "language"
   ]
  },
  {
   "cell_type": "markdown",
   "metadata": {},
   "source": [
    "## Challenge 2"
   ]
  },
  {
   "cell_type": "code",
   "execution_count": 69,
   "metadata": {},
   "outputs": [
    {
     "data": {
      "text/plain": [
       "dict_keys(['id', 'node_id', 'name', 'full_name', 'private', 'owner', 'html_url', 'description', 'fork', 'url', 'forks_url', 'keys_url', 'collaborators_url', 'teams_url', 'hooks_url', 'issue_events_url', 'events_url', 'assignees_url', 'branches_url', 'tags_url', 'blobs_url', 'git_tags_url', 'git_refs_url', 'trees_url', 'statuses_url', 'languages_url', 'stargazers_url', 'contributors_url', 'subscribers_url', 'subscription_url', 'commits_url', 'git_commits_url', 'comments_url', 'issue_comment_url', 'contents_url', 'compare_url', 'merges_url', 'archive_url', 'downloads_url', 'issues_url', 'pulls_url', 'milestones_url', 'notifications_url', 'labels_url', 'releases_url', 'deployments_url', 'created_at', 'updated_at', 'pushed_at', 'git_url', 'ssh_url', 'clone_url', 'svn_url', 'homepage', 'size', 'stargazers_count', 'watchers_count', 'language', 'has_issues', 'has_projects', 'has_downloads', 'has_wiki', 'has_pages', 'forks_count', 'mirror_url', 'archived', 'disabled', 'open_issues_count', 'license', 'forks', 'open_issues', 'watchers', 'default_branch', 'permissions'])"
      ]
     },
     "execution_count": 69,
     "metadata": {},
     "output_type": "execute_result"
    }
   ],
   "source": [
    "data[0].keys()"
   ]
  },
  {
   "cell_type": "code",
   "execution_count": 71,
   "metadata": {},
   "outputs": [
    {
     "data": {
      "text/plain": [
       "'https://api.github.com/repos/antonioomsg/datamad1020/commits{/sha}'"
      ]
     },
     "execution_count": 71,
     "metadata": {},
     "output_type": "execute_result"
    }
   ],
   "source": [
    "data[1][\"commits_url\"]"
   ]
  },
  {
   "cell_type": "code",
   "execution_count": 73,
   "metadata": {},
   "outputs": [],
   "source": [
    "commits = [pr[\"commits_url\"]for pr in data]"
   ]
  },
  {
   "cell_type": "code",
   "execution_count": 74,
   "metadata": {},
   "outputs": [
    {
     "data": {
      "text/plain": [
       "['https://api.github.com/repos/adrianacoca/datamad1020/commits{/sha}',\n",
       " 'https://api.github.com/repos/antonioomsg/datamad1020/commits{/sha}',\n",
       " 'https://api.github.com/repos/BorjaRio/datamad1020/commits{/sha}',\n",
       " 'https://api.github.com/repos/G0nka/datamad1020/commits{/sha}',\n",
       " 'https://api.github.com/repos/BlancadeOchoa/datamad1020/commits{/sha}',\n",
       " 'https://api.github.com/repos/AlbaAlvaro/datamad1020/commits{/sha}',\n",
       " 'https://api.github.com/repos/Adrian96119/datamad1020/commits{/sha}',\n",
       " 'https://api.github.com/repos/WyattGwyon/datamad1020/commits{/sha}',\n",
       " 'https://api.github.com/repos/carlosvilasanjuan/datamad1020/commits{/sha}',\n",
       " 'https://api.github.com/repos/nachordo/datamad1020/commits{/sha}',\n",
       " 'https://api.github.com/repos/Gon41/datamad1020/commits{/sha}',\n",
       " 'https://api.github.com/repos/gerardovitale/datamad1020/commits{/sha}',\n",
       " 'https://api.github.com/repos/medinaale91/datamad1020/commits{/sha}',\n",
       " 'https://api.github.com/repos/Albertojd/datamad1020/commits{/sha}',\n",
       " 'https://api.github.com/repos/angelagomezf/datamad1020/commits{/sha}',\n",
       " 'https://api.github.com/repos/gonalvarez05/datamad1020/commits{/sha}',\n",
       " 'https://api.github.com/repos/isabel-searle/datamad1020/commits{/sha}',\n",
       " 'https://api.github.com/repos/EduOporto/datamad1020/commits{/sha}',\n",
       " 'https://api.github.com/repos/crisarenas/datamad1020/commits{/sha}',\n",
       " 'https://api.github.com/repos/candelagarciafdez/datamad1020/commits{/sha}',\n",
       " 'https://api.github.com/repos/ferrero-felipe/datamad1020/commits{/sha}']"
      ]
     },
     "execution_count": 74,
     "metadata": {},
     "output_type": "execute_result"
    }
   ],
   "source": [
    "commits"
   ]
  },
  {
   "cell_type": "code",
   "execution_count": 75,
   "metadata": {},
   "outputs": [
    {
     "data": {
      "text/plain": [
       "21"
      ]
     },
     "execution_count": 75,
     "metadata": {},
     "output_type": "execute_result"
    }
   ],
   "source": [
    "\n",
    "len(commits)"
   ]
  },
  {
   "cell_type": "code",
   "execution_count": null,
   "metadata": {},
   "outputs": [],
   "source": []
  },
  {
   "cell_type": "code",
   "execution_count": null,
   "metadata": {},
   "outputs": [],
   "source": []
  },
  {
   "cell_type": "markdown",
   "metadata": {},
   "source": [
    "## Challenge 3"
   ]
  },
  {
   "cell_type": "code",
   "execution_count": null,
   "metadata": {},
   "outputs": [],
   "source": []
  }
 ],
 "metadata": {
  "kernelspec": {
   "display_name": "Python 3",
   "language": "python",
   "name": "python3"
  },
  "language_info": {
   "codemirror_mode": {
    "name": "ipython",
    "version": 3
   },
   "file_extension": ".py",
   "mimetype": "text/x-python",
   "name": "python",
   "nbconvert_exporter": "python",
   "pygments_lexer": "ipython3",
   "version": "3.8.3"
  }
 },
 "nbformat": 4,
 "nbformat_minor": 4
}
